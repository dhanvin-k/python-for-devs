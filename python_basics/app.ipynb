{
 "cells": [
  {
   "cell_type": "markdown",
   "metadata": {},
   "source": [
    "writing 'by=1' here gives by the default value\n",
    "what we are returning is annotated with -> here"
   ]
  },
  {
   "cell_type": "code",
   "execution_count": null,
   "metadata": {},
   "outputs": [],
   "source": [
    "def increment(number, by=1) -> tuple:\n",
    "    return (number, number + by)\n",
    "\n",
    "print(increment(2,3))"
   ]
  },
  {
   "cell_type": "markdown",
   "metadata": {},
   "source": [
    "xargs - prefixing an * infront of the param will allow\n",
    "us to pass arbitrary set of args. py will package it into a \n",
    "tuple"
   ]
  },
  {
   "cell_type": "code",
   "execution_count": null,
   "metadata": {},
   "outputs": [],
   "source": [
    "def multiply(*list) -> int:\n",
    "    total = 1\n",
    "    for num in list:\n",
    "        total *= num\n",
    "    return total\n",
    "\n",
    "print(multiply(2,3,3))"
   ]
  },
  {
   "cell_type": "markdown",
   "metadata": {},
   "source": [
    "xxargs - prefixing param with ** will make the param a dictionary. \n",
    "so we can pass key value pairs"
   ]
  },
  {
   "cell_type": "code",
   "execution_count": null,
   "metadata": {},
   "outputs": [],
   "source": [
    "def saveUser(**user):\n",
    "    print(user)\n",
    "\n",
    "saveUser(id=1, name=\"admin\")"
   ]
  },
  {
   "cell_type": "markdown",
   "metadata": {},
   "source": [
    "2 types of scope - local and global - no block level scope\n",
    "local - this means we can access variable inside a if or loop blocks \n",
    "outside of the block as long as its in the function\n",
    "\n",
    "global - using 'global' keyword we can reference a global variable\n",
    "with the same name inside a function - bad practise and avoid"
   ]
  },
  {
   "cell_type": "code",
   "execution_count": null,
   "metadata": {},
   "outputs": [],
   "source": [
    "reponse = \"Hello to you!\"\n",
    "def greet():\n",
    "    global reponse\n",
    "    reponse = \"Hi\"\n",
    "    if True:\n",
    "        message=\"Hello\"\n",
    "    print(message)\n",
    "    print(reponse)\n",
    "greet()\n",
    "print(reponse)"
   ]
  }
 ],
 "metadata": {
  "kernelspec": {
   "display_name": "Python 3",
   "language": "python",
   "name": "python3"
  },
  "language_info": {
   "name": "python",
   "version": "3.12.0"
  }
 },
 "nbformat": 4,
 "nbformat_minor": 2
}
